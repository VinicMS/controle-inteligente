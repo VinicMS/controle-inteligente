{
 "cells": [
  {
   "cell_type": "code",
   "execution_count": 2,
   "metadata": {},
   "outputs": [],
   "source": [
    "import numpy as np #operações matemátcas\n",
    "import matplotlib.pyplot as plt #plot de gráficos\n",
    "import pandas as pd # manipulação de arquivos (csv, txt)\n",
    "\n",
    "from sklearn.model_selection import train_test_split\n",
    "from sklearn.metrics import r2_score, mean_squared_error\n",
    "from sklearn.neural_network import MLPRegressor\n",
    "\n",
    "import joblib\n",
    "\n",
    "from sklearn.preprocessing import MinMaxScaler"
   ]
  },
  {
   "cell_type": "code",
   "execution_count": 4,
   "metadata": {},
   "outputs": [],
   "source": [
    "titulos_coleta = np.array([\n",
    "    \"erro_posicao\",\n",
    "    \"x_p\",\n",
    "    \"theta\",\n",
    "    \"theta_p\",\n",
    "    \"acao\"\n",
    "])\n",
    "\n",
    "dataframe = pd.read_csv(\n",
    "                        'dados/dados_ss.csv', \n",
    "                        header = None,\n",
    "                        names = titulos_coleta)"
   ]
  },
  {
   "cell_type": "code",
   "execution_count": 69,
   "metadata": {},
   "outputs": [
    {
     "data": {
      "text/html": [
       "<div>\n",
       "<style scoped>\n",
       "    .dataframe tbody tr th:only-of-type {\n",
       "        vertical-align: middle;\n",
       "    }\n",
       "\n",
       "    .dataframe tbody tr th {\n",
       "        vertical-align: top;\n",
       "    }\n",
       "\n",
       "    .dataframe thead th {\n",
       "        text-align: right;\n",
       "    }\n",
       "</style>\n",
       "<table border=\"1\" class=\"dataframe\">\n",
       "  <thead>\n",
       "    <tr style=\"text-align: right;\">\n",
       "      <th></th>\n",
       "      <th>erro_posicao</th>\n",
       "      <th>x_p</th>\n",
       "      <th>theta</th>\n",
       "      <th>theta_p</th>\n",
       "      <th>acao</th>\n",
       "    </tr>\n",
       "  </thead>\n",
       "  <tbody>\n",
       "    <tr>\n",
       "      <th>0</th>\n",
       "      <td>0.512692</td>\n",
       "      <td>0.189492</td>\n",
       "      <td>0.007386</td>\n",
       "      <td>-0.198240</td>\n",
       "      <td>15.812472</td>\n",
       "    </tr>\n",
       "    <tr>\n",
       "      <th>1</th>\n",
       "      <td>0.510797</td>\n",
       "      <td>0.222517</td>\n",
       "      <td>0.005403</td>\n",
       "      <td>-0.246690</td>\n",
       "      <td>3.390488</td>\n",
       "    </tr>\n",
       "    <tr>\n",
       "      <th>2</th>\n",
       "      <td>0.508572</td>\n",
       "      <td>0.176029</td>\n",
       "      <td>0.002936</td>\n",
       "      <td>-0.176165</td>\n",
       "      <td>-4.761062</td>\n",
       "    </tr>\n",
       "    <tr>\n",
       "      <th>3</th>\n",
       "      <td>0.506811</td>\n",
       "      <td>0.102884</td>\n",
       "      <td>0.001175</td>\n",
       "      <td>-0.066016</td>\n",
       "      <td>-7.495233</td>\n",
       "    </tr>\n",
       "    <tr>\n",
       "      <th>4</th>\n",
       "      <td>0.505782</td>\n",
       "      <td>0.044660</td>\n",
       "      <td>0.000515</td>\n",
       "      <td>0.021493</td>\n",
       "      <td>-5.967153</td>\n",
       "    </tr>\n",
       "    <tr>\n",
       "      <th>...</th>\n",
       "      <td>...</td>\n",
       "      <td>...</td>\n",
       "      <td>...</td>\n",
       "      <td>...</td>\n",
       "      <td>...</td>\n",
       "    </tr>\n",
       "    <tr>\n",
       "      <th>9198</th>\n",
       "      <td>-0.106034</td>\n",
       "      <td>-0.197487</td>\n",
       "      <td>-0.003429</td>\n",
       "      <td>0.326614</td>\n",
       "      <td>-1.676997</td>\n",
       "    </tr>\n",
       "    <tr>\n",
       "      <th>9199</th>\n",
       "      <td>-0.104059</td>\n",
       "      <td>-0.119261</td>\n",
       "      <td>-0.000163</td>\n",
       "      <td>0.208772</td>\n",
       "      <td>8.015664</td>\n",
       "    </tr>\n",
       "    <tr>\n",
       "      <th>9200</th>\n",
       "      <td>-0.102866</td>\n",
       "      <td>-0.018587</td>\n",
       "      <td>0.001924</td>\n",
       "      <td>0.057737</td>\n",
       "      <td>10.319001</td>\n",
       "    </tr>\n",
       "    <tr>\n",
       "      <th>9201</th>\n",
       "      <td>-0.102680</td>\n",
       "      <td>0.061383</td>\n",
       "      <td>0.002502</td>\n",
       "      <td>-0.061935</td>\n",
       "      <td>8.198301</td>\n",
       "    </tr>\n",
       "    <tr>\n",
       "      <th>9202</th>\n",
       "      <td>-0.103294</td>\n",
       "      <td>0.130485</td>\n",
       "      <td>0.001882</td>\n",
       "      <td>-0.165220</td>\n",
       "      <td>7.084818</td>\n",
       "    </tr>\n",
       "  </tbody>\n",
       "</table>\n",
       "<p>9203 rows × 5 columns</p>\n",
       "</div>"
      ],
      "text/plain": [
       "      erro_posicao       x_p     theta   theta_p       acao\n",
       "0         0.512692  0.189492  0.007386 -0.198240  15.812472\n",
       "1         0.510797  0.222517  0.005403 -0.246690   3.390488\n",
       "2         0.508572  0.176029  0.002936 -0.176165  -4.761062\n",
       "3         0.506811  0.102884  0.001175 -0.066016  -7.495233\n",
       "4         0.505782  0.044660  0.000515  0.021493  -5.967153\n",
       "...            ...       ...       ...       ...        ...\n",
       "9198     -0.106034 -0.197487 -0.003429  0.326614  -1.676997\n",
       "9199     -0.104059 -0.119261 -0.000163  0.208772   8.015664\n",
       "9200     -0.102866 -0.018587  0.001924  0.057737  10.319001\n",
       "9201     -0.102680  0.061383  0.002502 -0.061935   8.198301\n",
       "9202     -0.103294  0.130485  0.001882 -0.165220   7.084818\n",
       "\n",
       "[9203 rows x 5 columns]"
      ]
     },
     "execution_count": 69,
     "metadata": {},
     "output_type": "execute_result"
    }
   ],
   "source": [
    "dataframe"
   ]
  },
  {
   "cell_type": "code",
   "execution_count": 5,
   "metadata": {},
   "outputs": [],
   "source": [
    "entradas = dataframe.iloc[:, :4]\n",
    "saida = dataframe.iloc[:, 4]"
   ]
  },
  {
   "cell_type": "code",
   "execution_count": 71,
   "metadata": {},
   "outputs": [
    {
     "data": {
      "text/html": [
       "<div>\n",
       "<style scoped>\n",
       "    .dataframe tbody tr th:only-of-type {\n",
       "        vertical-align: middle;\n",
       "    }\n",
       "\n",
       "    .dataframe tbody tr th {\n",
       "        vertical-align: top;\n",
       "    }\n",
       "\n",
       "    .dataframe thead th {\n",
       "        text-align: right;\n",
       "    }\n",
       "</style>\n",
       "<table border=\"1\" class=\"dataframe\">\n",
       "  <thead>\n",
       "    <tr style=\"text-align: right;\">\n",
       "      <th></th>\n",
       "      <th>erro_posicao</th>\n",
       "      <th>x_p</th>\n",
       "      <th>theta</th>\n",
       "      <th>theta_p</th>\n",
       "    </tr>\n",
       "  </thead>\n",
       "  <tbody>\n",
       "    <tr>\n",
       "      <th>0</th>\n",
       "      <td>0.512692</td>\n",
       "      <td>0.189492</td>\n",
       "      <td>0.007386</td>\n",
       "      <td>-0.198240</td>\n",
       "    </tr>\n",
       "    <tr>\n",
       "      <th>1</th>\n",
       "      <td>0.510797</td>\n",
       "      <td>0.222517</td>\n",
       "      <td>0.005403</td>\n",
       "      <td>-0.246690</td>\n",
       "    </tr>\n",
       "    <tr>\n",
       "      <th>2</th>\n",
       "      <td>0.508572</td>\n",
       "      <td>0.176029</td>\n",
       "      <td>0.002936</td>\n",
       "      <td>-0.176165</td>\n",
       "    </tr>\n",
       "    <tr>\n",
       "      <th>3</th>\n",
       "      <td>0.506811</td>\n",
       "      <td>0.102884</td>\n",
       "      <td>0.001175</td>\n",
       "      <td>-0.066016</td>\n",
       "    </tr>\n",
       "    <tr>\n",
       "      <th>4</th>\n",
       "      <td>0.505782</td>\n",
       "      <td>0.044660</td>\n",
       "      <td>0.000515</td>\n",
       "      <td>0.021493</td>\n",
       "    </tr>\n",
       "    <tr>\n",
       "      <th>...</th>\n",
       "      <td>...</td>\n",
       "      <td>...</td>\n",
       "      <td>...</td>\n",
       "      <td>...</td>\n",
       "    </tr>\n",
       "    <tr>\n",
       "      <th>9198</th>\n",
       "      <td>-0.106034</td>\n",
       "      <td>-0.197487</td>\n",
       "      <td>-0.003429</td>\n",
       "      <td>0.326614</td>\n",
       "    </tr>\n",
       "    <tr>\n",
       "      <th>9199</th>\n",
       "      <td>-0.104059</td>\n",
       "      <td>-0.119261</td>\n",
       "      <td>-0.000163</td>\n",
       "      <td>0.208772</td>\n",
       "    </tr>\n",
       "    <tr>\n",
       "      <th>9200</th>\n",
       "      <td>-0.102866</td>\n",
       "      <td>-0.018587</td>\n",
       "      <td>0.001924</td>\n",
       "      <td>0.057737</td>\n",
       "    </tr>\n",
       "    <tr>\n",
       "      <th>9201</th>\n",
       "      <td>-0.102680</td>\n",
       "      <td>0.061383</td>\n",
       "      <td>0.002502</td>\n",
       "      <td>-0.061935</td>\n",
       "    </tr>\n",
       "    <tr>\n",
       "      <th>9202</th>\n",
       "      <td>-0.103294</td>\n",
       "      <td>0.130485</td>\n",
       "      <td>0.001882</td>\n",
       "      <td>-0.165220</td>\n",
       "    </tr>\n",
       "  </tbody>\n",
       "</table>\n",
       "<p>9203 rows × 4 columns</p>\n",
       "</div>"
      ],
      "text/plain": [
       "      erro_posicao       x_p     theta   theta_p\n",
       "0         0.512692  0.189492  0.007386 -0.198240\n",
       "1         0.510797  0.222517  0.005403 -0.246690\n",
       "2         0.508572  0.176029  0.002936 -0.176165\n",
       "3         0.506811  0.102884  0.001175 -0.066016\n",
       "4         0.505782  0.044660  0.000515  0.021493\n",
       "...            ...       ...       ...       ...\n",
       "9198     -0.106034 -0.197487 -0.003429  0.326614\n",
       "9199     -0.104059 -0.119261 -0.000163  0.208772\n",
       "9200     -0.102866 -0.018587  0.001924  0.057737\n",
       "9201     -0.102680  0.061383  0.002502 -0.061935\n",
       "9202     -0.103294  0.130485  0.001882 -0.165220\n",
       "\n",
       "[9203 rows x 4 columns]"
      ]
     },
     "execution_count": 71,
     "metadata": {},
     "output_type": "execute_result"
    }
   ],
   "source": [
    "entradas"
   ]
  },
  {
   "cell_type": "code",
   "execution_count": 72,
   "metadata": {},
   "outputs": [
    {
     "data": {
      "text/plain": [
       "0       15.812472\n",
       "1        3.390488\n",
       "2       -4.761062\n",
       "3       -7.495233\n",
       "4       -5.967153\n",
       "          ...    \n",
       "9198    -1.676997\n",
       "9199     8.015664\n",
       "9200    10.319001\n",
       "9201     8.198301\n",
       "9202     7.084818\n",
       "Name: acao, Length: 9203, dtype: float64"
      ]
     },
     "execution_count": 72,
     "metadata": {},
     "output_type": "execute_result"
    }
   ],
   "source": [
    "saida"
   ]
  },
  {
   "cell_type": "code",
   "execution_count": 6,
   "metadata": {},
   "outputs": [],
   "source": [
    "entradas_train, entradas_test, saida_train, saida_test = train_test_split(entradas, saida, test_size = 0.33)"
   ]
  },
  {
   "cell_type": "code",
   "execution_count": 10,
   "metadata": {},
   "outputs": [
    {
     "data": {
      "text/plain": [
       "8"
      ]
     },
     "execution_count": 10,
     "metadata": {},
     "output_type": "execute_result"
    }
   ],
   "source": [
    "import mkl"
   ]
  },
  {
   "cell_type": "code",
   "execution_count": 10,
   "metadata": {},
   "outputs": [
    {
     "name": "stderr",
     "output_type": "stream",
     "text": [
      "/opt/anaconda3/lib/python3.9/site-packages/sklearn/utils/validation.py:1688: FutureWarning: Feature names only support names that are all strings. Got feature names with dtypes: ['str_']. An error will be raised in 1.2.\n",
      "  warnings.warn(\n"
     ]
    },
    {
     "data": {
      "text/plain": [
       "MLPRegressor(hidden_layer_sizes=[64, 64, 64, 64], max_iter=1000)"
      ]
     },
     "execution_count": 10,
     "metadata": {},
     "output_type": "execute_result"
    }
   ],
   "source": [
    "# mkl.set_num_threads(8)\n",
    "modelo = MLPRegressor(\n",
    "    hidden_layer_sizes = [64, 64, 64, 64], \n",
    "    activation='relu', \n",
    "    max_iter = 1000,\n",
    ")\n",
    "\n",
    "modelo.fit(entradas_train, saida_train)"
   ]
  },
  {
   "cell_type": "code",
   "execution_count": 11,
   "metadata": {},
   "outputs": [
    {
     "name": "stdout",
     "output_type": "stream",
     "text": [
      "O erro medio quadratico é:  41615.21\n"
     ]
    },
    {
     "name": "stderr",
     "output_type": "stream",
     "text": [
      "/opt/anaconda3/lib/python3.9/site-packages/sklearn/utils/validation.py:1688: FutureWarning: Feature names only support names that are all strings. Got feature names with dtypes: ['str_']. An error will be raised in 1.2.\n",
      "  warnings.warn(\n"
     ]
    }
   ],
   "source": [
    "saida_pred = modelo.predict(entradas_test)\n",
    "erro = mean_squared_error(saida_test, saida_pred)\n",
    "\n",
    "print(\"O erro medio quadratico é:  %.2f\" % (erro))"
   ]
  },
  {
   "cell_type": "code",
   "execution_count": 12,
   "metadata": {},
   "outputs": [
    {
     "name": "stdout",
     "output_type": "stream",
     "text": [
      "A medida R2 é: 0.74\n"
     ]
    }
   ],
   "source": [
    "medidaR2 = r2_score(saida_test, saida_pred)\n",
    "print(\"A medida R2 é: %.2f\" % (medidaR2))"
   ]
  },
  {
   "cell_type": "code",
   "execution_count": 13,
   "metadata": {},
   "outputs": [
    {
     "data": {
      "image/png": "[encoded data removed]",
      "text/plain": [
       "<Figure size 720x720 with 1 Axes>"
      ]
     },
     "metadata": {
      "needs_background": "light"
     },
     "output_type": "display_data"
    }
   ],
   "source": [
    "plt.figure(1, figsize=(10, 10))\n",
    "\n",
    "plt.scatter(saida_pred, saida_test)\n",
    "plt.grid()\n",
    "plt.show()"
   ]
  },
  {
   "cell_type": "code",
   "execution_count": 15,
   "metadata": {},
   "outputs": [
    {
     "data": {
      "text/plain": [
       "['treinamento4']"
      ]
     },
     "execution_count": 15,
     "metadata": {},
     "output_type": "execute_result"
    }
   ],
   "source": [
    "arquivo = \"treinamento4\"\n",
    "joblib.dump(modelo, arquivo)"
   ]
  },
  {
   "cell_type": "code",
   "execution_count": 16,
   "metadata": {},
   "outputs": [
    {
     "name": "stdout",
     "output_type": "stream",
     "text": [
      "0.7442460384652912\n"
     ]
    },
    {
     "name": "stderr",
     "output_type": "stream",
     "text": [
      "/opt/anaconda3/lib/python3.9/site-packages/sklearn/utils/validation.py:1688: FutureWarning: Feature names only support names that are all strings. Got feature names with dtypes: ['str_']. An error will be raised in 1.2.\n",
      "  warnings.warn(\n",
      "/opt/anaconda3/lib/python3.9/site-packages/sklearn/utils/validation.py:1688: FutureWarning: Feature names only support names that are all strings. Got feature names with dtypes: ['str_']. An error will be raised in 1.2.\n",
      "  warnings.warn(\n"
     ]
    }
   ],
   "source": [
    "modelo_carregado = joblib.load(arquivo)\n",
    "saida_pred_ = modelo_carregado.predict(entradas_test)\n",
    "\n",
    "result = modelo_carregado.score(entradas_test, saida_test)\n",
    "\n",
    "print(result)"
   ]
  },
  {
   "cell_type": "code",
   "execution_count": 80,
   "metadata": {},
   "outputs": [
    {
     "data": {
      "text/html": [
       "<div>\n",
       "<style scoped>\n",
       "    .dataframe tbody tr th:only-of-type {\n",
       "        vertical-align: middle;\n",
       "    }\n",
       "\n",
       "    .dataframe tbody tr th {\n",
       "        vertical-align: top;\n",
       "    }\n",
       "\n",
       "    .dataframe thead th {\n",
       "        text-align: right;\n",
       "    }\n",
       "</style>\n",
       "<table border=\"1\" class=\"dataframe\">\n",
       "  <thead>\n",
       "    <tr style=\"text-align: right;\">\n",
       "      <th></th>\n",
       "      <th>erro_posicao</th>\n",
       "      <th>x_p</th>\n",
       "      <th>theta</th>\n",
       "      <th>theta_p</th>\n",
       "    </tr>\n",
       "  </thead>\n",
       "  <tbody>\n",
       "    <tr>\n",
       "      <th>8899</th>\n",
       "      <td>1.521734</td>\n",
       "      <td>0.027153</td>\n",
       "      <td>0.001083</td>\n",
       "      <td>-0.001077</td>\n",
       "    </tr>\n",
       "    <tr>\n",
       "      <th>3281</th>\n",
       "      <td>0.028015</td>\n",
       "      <td>-0.003853</td>\n",
       "      <td>0.000473</td>\n",
       "      <td>-0.004707</td>\n",
       "    </tr>\n",
       "    <tr>\n",
       "      <th>8247</th>\n",
       "      <td>0.005016</td>\n",
       "      <td>-0.098637</td>\n",
       "      <td>-0.001560</td>\n",
       "      <td>0.157030</td>\n",
       "    </tr>\n",
       "    <tr>\n",
       "      <th>581</th>\n",
       "      <td>0.204702</td>\n",
       "      <td>-0.363468</td>\n",
       "      <td>-0.005774</td>\n",
       "      <td>0.562334</td>\n",
       "    </tr>\n",
       "    <tr>\n",
       "      <th>6368</th>\n",
       "      <td>0.173946</td>\n",
       "      <td>0.029319</td>\n",
       "      <td>0.001121</td>\n",
       "      <td>-0.009016</td>\n",
       "    </tr>\n",
       "    <tr>\n",
       "      <th>...</th>\n",
       "      <td>...</td>\n",
       "      <td>...</td>\n",
       "      <td>...</td>\n",
       "      <td>...</td>\n",
       "    </tr>\n",
       "    <tr>\n",
       "      <th>6185</th>\n",
       "      <td>0.201109</td>\n",
       "      <td>0.007219</td>\n",
       "      <td>0.000804</td>\n",
       "      <td>0.005307</td>\n",
       "    </tr>\n",
       "    <tr>\n",
       "      <th>1727</th>\n",
       "      <td>0.388437</td>\n",
       "      <td>-1.765644</td>\n",
       "      <td>0.016682</td>\n",
       "      <td>2.433772</td>\n",
       "    </tr>\n",
       "    <tr>\n",
       "      <th>1636</th>\n",
       "      <td>1.627573</td>\n",
       "      <td>-0.966615</td>\n",
       "      <td>-0.030435</td>\n",
       "      <td>0.984513</td>\n",
       "    </tr>\n",
       "    <tr>\n",
       "      <th>4918</th>\n",
       "      <td>0.078948</td>\n",
       "      <td>0.644920</td>\n",
       "      <td>0.009486</td>\n",
       "      <td>-0.841527</td>\n",
       "    </tr>\n",
       "    <tr>\n",
       "      <th>4440</th>\n",
       "      <td>-0.000037</td>\n",
       "      <td>-0.288631</td>\n",
       "      <td>-0.007795</td>\n",
       "      <td>0.411351</td>\n",
       "    </tr>\n",
       "  </tbody>\n",
       "</table>\n",
       "<p>3037 rows × 4 columns</p>\n",
       "</div>"
      ],
      "text/plain": [
       "      erro_posicao       x_p     theta   theta_p\n",
       "8899      1.521734  0.027153  0.001083 -0.001077\n",
       "3281      0.028015 -0.003853  0.000473 -0.004707\n",
       "8247      0.005016 -0.098637 -0.001560  0.157030\n",
       "581       0.204702 -0.363468 -0.005774  0.562334\n",
       "6368      0.173946  0.029319  0.001121 -0.009016\n",
       "...            ...       ...       ...       ...\n",
       "6185      0.201109  0.007219  0.000804  0.005307\n",
       "1727      0.388437 -1.765644  0.016682  2.433772\n",
       "1636      1.627573 -0.966615 -0.030435  0.984513\n",
       "4918      0.078948  0.644920  0.009486 -0.841527\n",
       "4440     -0.000037 -0.288631 -0.007795  0.411351\n",
       "\n",
       "[3037 rows x 4 columns]"
      ]
     },
     "execution_count": 80,
     "metadata": {},
     "output_type": "execute_result"
    }
   ],
   "source": [
    "entradas_test"
   ]
  },
  {
   "cell_type": "code",
   "execution_count": 81,
   "metadata": {},
   "outputs": [],
   "source": [
    "import datetime"
   ]
  },
  {
   "cell_type": "code",
   "execution_count": 84,
   "metadata": {},
   "outputs": [
    {
     "name": "stdout",
     "output_type": "stream",
     "text": [
      "2022-07-06 01:55:04.464079\n"
     ]
    }
   ],
   "source": [
    "dtm = datetime.datetime.now()\n",
    "print(dtm)"
   ]
  },
  {
   "cell_type": "code",
   "execution_count": 85,
   "metadata": {},
   "outputs": [],
   "source": [
    "import pathlib"
   ]
  },
  {
   "cell_type": "code",
   "execution_count": 92,
   "metadata": {},
   "outputs": [
    {
     "name": "stdout",
     "output_type": "stream",
     "text": [
      "3\n"
     ]
    },
    {
     "ename": "TypeError",
     "evalue": "can only concatenate str (not \"int\") to str",
     "output_type": "error",
     "traceback": [
      "\u001b[0;31m---------------------------------------------------------------------------\u001b[0m",
      "\u001b[0;31mTypeError\u001b[0m                                 Traceback (most recent call last)",
      "\u001b[1;32m/Users/vinicms/Library/CloudStorage/OneDrive-Personal/Pessoal/[2] FACULDADE/[1] MATERIAS/[9] PERIODO/CONTROLE INTELIGENTE/ARQUIVOS/PENDULO INVERTIDO (REDE NEURAL)/funcoes_leitura.ipynb Cell 18'\u001b[0m in \u001b[0;36m<cell line: 10>\u001b[0;34m()\u001b[0m\n\u001b[1;32m      <a href='vscode-notebook-cell:/Users/vinicms/Library/CloudStorage/OneDrive-Personal/Pessoal/%5B2%5D%20FACULDADE/%5B1%5D%20MATERIAS/%5B9%5D%20PERIODO/CONTROLE%20INTELIGENTE/ARQUIVOS/PENDULO%20INVERTIDO%20%28REDE%20NEURAL%29/funcoes_leitura.ipynb#ch0000028?line=5'>6</a>\u001b[0m \u001b[39mprint\u001b[39m(n_arq\u001b[39m+\u001b[39m\u001b[39m1\u001b[39m)\n\u001b[1;32m      <a href='vscode-notebook-cell:/Users/vinicms/Library/CloudStorage/OneDrive-Personal/Pessoal/%5B2%5D%20FACULDADE/%5B1%5D%20MATERIAS/%5B9%5D%20PERIODO/CONTROLE%20INTELIGENTE/ARQUIVOS/PENDULO%20INVERTIDO%20%28REDE%20NEURAL%29/funcoes_leitura.ipynb#ch0000028?line=7'>8</a>\u001b[0m identificador_arquivo \u001b[39m=\u001b[39m (n_arq\u001b[39m+\u001b[39m\u001b[39m1\u001b[39m)\n\u001b[0;32m---> <a href='vscode-notebook-cell:/Users/vinicms/Library/CloudStorage/OneDrive-Personal/Pessoal/%5B2%5D%20FACULDADE/%5B1%5D%20MATERIAS/%5B9%5D%20PERIODO/CONTROLE%20INTELIGENTE/ARQUIVOS/PENDULO%20INVERTIDO%20%28REDE%20NEURAL%29/funcoes_leitura.ipynb#ch0000028?line=9'>10</a>\u001b[0m arquivo \u001b[39m=\u001b[39m \u001b[39m\"\u001b[39;49m\u001b[39mtr\u001b[39;49m\u001b[39m\"\u001b[39;49m \u001b[39m+\u001b[39;49m identificador_arquivo\n",
      "\u001b[0;31mTypeError\u001b[0m: can only concatenate str (not \"int\") to str"
     ]
    }
   ],
   "source": [
    "n_arq = 0\n",
    "for path in pathlib.Path(\"modelos\").iterdir():\n",
    "    if path.is_file():\n",
    "        n_arq += 1\n",
    "\n",
    "print(n_arq+1)\n",
    "\n",
    "identificador_arquivo = (n_arq+1)\n",
    "\n",
    "arquivo = \"tr\" + identificador_arquivo"
   ]
  },
  {
   "cell_type": "code",
   "execution_count": 1,
   "metadata": {},
   "outputs": [
    {
     "ename": "",
     "evalue": "",
     "output_type": "error",
     "traceback": [
      "\u001b[1;31mThe Kernel crashed while executing code in the the current cell or a previous cell. Please review the code in the cell(s) to identify a possible cause of the failure. Click <a href='https://aka.ms/vscodeJupyterKernelCrash'>here</a> for more info. View Jupyter <a href='command:jupyter.viewOutput'>log</a> for further details."
     ]
    },
    {
     "ename": "",
     "evalue": "",
     "output_type": "error",
     "traceback": [
      "\u001b[1;31mCanceled future for execute_request message before replies were done"
     ]
    }
   ],
   "source": [
    "import tensorflow"
   ]
  }
 ],
 "metadata": {
  "kernelspec": {
   "display_name": "Python 3.9.12 ('base')",
   "language": "python",
   "name": "python3"
  },
  "language_info": {
   "codemirror_mode": {
    "name": "ipython",
    "version": 3
   },
   "file_extension": ".py",
   "mimetype": "text/x-python",
   "name": "python",
   "nbconvert_exporter": "python",
   "pygments_lexer": "ipython3",
   "version": "3.9.12"
  },
  "orig_nbformat": 4,
  "vscode": {
   "interpreter": {
    "hash": "40d3a090f54c6569ab1632332b64b2c03c39dcf918b08424e98f38b5ae0af88f"
   }
  }
 },
 "nbformat": 4,
 "nbformat_minor": 2
}
