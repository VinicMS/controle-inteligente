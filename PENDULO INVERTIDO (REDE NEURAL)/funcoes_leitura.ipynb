{
 "cells": [
  {
   "cell_type": "code",
   "execution_count": null,
   "metadata": {},
   "outputs": [],
   "source": [
    "import numpy as np #operações matemátcas\n",
    "import matplotlib.pyplot as plt #plot de gráficos\n",
    "import pandas as pd # manipulação de arquivos (csv, txt)\n",
    "\n",
    "from sklearn.model_selection import train_test_split\n",
    "from sklearn.metrics import r2_score, mean_squared_error\n",
    "from sklearn.neural_network import MLPRegressor\n",
    "\n",
    "import joblib"
   ]
  },
  {
   "cell_type": "code",
   "execution_count": null,
   "metadata": {},
   "outputs": [],
   "source": [
    "dataframe = pd.read_csv(\n",
    "                        'dados/dados_ss.csv', \n",
    "                        header = None)"
   ]
  },
  {
   "cell_type": "code",
   "execution_count": null,
   "metadata": {},
   "outputs": [],
   "source": [
    "entradas = dataframe.iloc[:, :4]\n",
    "saida = dataframe.iloc[:, 4]"
   ]
  },
  {
   "cell_type": "code",
   "execution_count": null,
   "metadata": {},
   "outputs": [],
   "source": [
    "entradas_train, entradas_test, saida_train, saida_test = train_test_split(entradas, saida, test_size = 0.33)"
   ]
  },
  {
   "cell_type": "code",
   "execution_count": null,
   "metadata": {},
   "outputs": [],
   "source": [
    "modelo = MLPRegressor(#aqui tu pode ir testando as coisas. aumentando ou diminuindo o numero de camadas nesse primeiro, mudando as funcoes de ativacao, iteracoes ou outras coisas.\n",
    "# tem um site maneiro pra ver as possibilidades, que é a documentacao do sklearn mesmo: https://scikit-learn.org/stable/modules/generated/sklearn.neural_network.MLPRegressor.html\n",
    "# ai dele tu tira outras ideias de coisas pra implementar, eu usei o solver adam, batch size acho que da pra deixar automatico, ele faz uma conta racional pra dividir com base no universo amostrado.\n",
    "#\n",
    "    hidden_layer_sizes = [64, 64, 64, 64], #mais camadas e neuronios nao quer dizer que é melhor, só Deus sabe o que faz funcionar\n",
    "    activation='relu',  #relu ta bom por enquanto, mas testa outras kk vai que\n",
    "    max_iter = 1000,\n",
    ")\n",
    "\n",
    "#as configuracoes da minha camada que fizeram aquele treinamento que ficou razoavel:\n",
    "#[128, 128, 128]\n",
    "#relu\n",
    "#batch_size=500\n",
    "#max_iter = 100000\n",
    "#solver = 'adam'\n",
    "#verbose = True\n",
    "#learning_rate = 'adaptative'\n",
    "\n",
    "modelo.fit(entradas_train, saida_train)"
   ]
  },
  {
   "cell_type": "code",
   "execution_count": null,
   "metadata": {},
   "outputs": [],
   "source": [
    "saida_pred = modelo.predict(entradas_test)# é esse aqui que vai entrar na sua acao de controle. ele vai prever o valor ad acao com base nas entradas que o controlador antigo aplicou para cada estado completo (x, xp, theta, thetap) -> (acao)\n",
    "erro = mean_squared_error(saida_test, saida_pred)\n",
    "\n",
    "print(\"O erro medio quadratico é:  %.2f\" % (erro))"
   ]
  },
  {
   "cell_type": "code",
   "execution_count": null,
   "metadata": {},
   "outputs": [],
   "source": [
    "medidaR2 = r2_score(saida_test, saida_pred)# acho que uns 0.80 (80%) tá bom, mas nao tenho certeza kkkkk (o meu com oscilacao de 0.2 ta com 0.82)\n",
    "print(\"A medida R2 é: %.2f\" % (medidaR2))"
   ]
  },
  {
   "cell_type": "code",
   "execution_count": null,
   "metadata": {},
   "outputs": [],
   "source": [
    "plt.figure(1, figsize=(10, 10))\n",
    "\n",
    "plt.scatter(saida_pred, saida_test)# o ideal é uma linha reta\n",
    "plt.grid()\n",
    "plt.show()"
   ]
  }
 ],
 "metadata": {
  "kernelspec": {
   "display_name": "Python 3.9.12 ('base')",
   "language": "python",
   "name": "python3"
  },
  "language_info": {
   "codemirror_mode": {
    "name": "ipython",
    "version": 3
   },
   "file_extension": ".py",
   "mimetype": "text/x-python",
   "name": "python",
   "nbconvert_exporter": "python",
   "pygments_lexer": "ipython3",
   "version": "3.9.12"
  },
  "orig_nbformat": 4,
  "vscode": {
   "interpreter": {
    "hash": "40d3a090f54c6569ab1632332b64b2c03c39dcf918b08424e98f38b5ae0af88f"
   }
  }
 },
 "nbformat": 4,
 "nbformat_minor": 2
}
